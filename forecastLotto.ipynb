{
  "nbformat": 4,
  "nbformat_minor": 0,
  "metadata": {
    "colab": {
      "name": "forecastLotto.ipynb",
      "provenance": [],
      "authorship_tag": "ABX9TyODOuZR9xloBLVF0Mcw0Xmk",
      "include_colab_link": true
    },
    "kernelspec": {
      "name": "python3",
      "display_name": "Python 3"
    },
    "language_info": {
      "name": "python"
    }
  },
  "cells": [
    {
      "cell_type": "markdown",
      "metadata": {
        "id": "view-in-github",
        "colab_type": "text"
      },
      "source": [
        "<a href=\"https://colab.research.google.com/github/wisestonster/forecast_BTC/blob/main/forecastLotto.ipynb\" target=\"_parent\"><img src=\"https://colab.research.google.com/assets/colab-badge.svg\" alt=\"Open In Colab\"/></a>"
      ]
    },
    {
      "cell_type": "code",
      "metadata": {
        "colab": {
          "base_uri": "https://localhost:8080/"
        },
        "id": "FmkFLh5utboQ",
        "outputId": "07a2fb56-2688-44ec-98cb-7c923518ba75"
      },
      "source": [
        "# 프로핏으로 로또 매직넘버 예측하기\n",
        "import pandas as pd\n",
        "import matplotlib.pyplot as plt\n",
        "import numpy as np\n",
        "from fbprophet import Prophet\n",
        "\n",
        "# prophet을 사용하기 위해서는 다음과 같이 피처의 이름을 변경해야 합니다 : 'ds', 'y'\n",
        "csvFilename = input('lotto_win_info_숫자를 입력해 주세요: ')\n",
        "print('로또 매직넘버를 예측합니다...')\n",
        "full_df = pd.read_csv('lotto_win_info_{}.csv'.format(csvFilename))\n",
        "df = full_df[['date', 'magicNo']]\n",
        "df.columns = ['ds', 'y']\n",
        "prophet = Prophet(seasonality_mode='multiplicative',\n",
        "                  yearly_seasonality=True,\n",
        "                  weekly_seasonality=True, daily_seasonality=True,\n",
        "                  changepoint_prior_scale=0.5)\n",
        "prophet.fit(df)\n",
        "\n",
        "# periods 일을 내다보며 예측합니다.\n",
        "future_data = prophet.make_future_dataframe(periods=7, freq='d')\n",
        "forecast_data = prophet.predict(future_data)\n",
        "forecast_data[['ds', 'yhat', 'yhat_lower', 'yhat_upper']].tail(5)\n",
        "\n",
        "# #예측값 찍어보기\n",
        "# fig1 = prophet.plot(forecast_data)\n",
        "\n",
        "# 예측 넘버 추출\n",
        "print('매직넘버: ', int(forecast_data.iloc[[forecast_data.shape[0]-1], 1]))\n",
        "\n",
        "df = full_df[['date', 'Num1']]\n",
        "df.columns = ['ds', 'y']\n",
        "prophet = Prophet(seasonality_mode='multiplicative',\n",
        "                  yearly_seasonality=True,\n",
        "                  weekly_seasonality=True, daily_seasonality=True,\n",
        "                  changepoint_prior_scale=0.5)\n",
        "prophet.fit(df)\n",
        "\n",
        "# periods 일을 내다보며 예측합니다.\n",
        "future_data = prophet.make_future_dataframe(periods=7, freq='d')\n",
        "forecast_data = prophet.predict(future_data)\n",
        "forecast_data[['ds', 'yhat', 'yhat_lower', 'yhat_upper']].tail(5)\n",
        "\n",
        "# #예측값 찍어보기\n",
        "# fig1 = prophet.plot(forecast_data)\n",
        "\n",
        "# 시작 넘버 추출\n",
        "print('시작번호:', int(forecast_data.iloc[[forecast_data.shape[0]-1], 1]))\n"
      ],
      "execution_count": 41,
      "outputs": [
        {
          "output_type": "stream",
          "text": [
            "lotto_win_info_숫자를 입력해 주세요: 972\n",
            "매직넘버:  333191\n",
            "시작번호: 7\n"
          ],
          "name": "stdout"
        }
      ]
    },
    {
      "cell_type": "code",
      "metadata": {
        "id": "3ZdcTB2lzKUu"
      },
      "source": [
        ""
      ],
      "execution_count": null,
      "outputs": []
    }
  ]
}
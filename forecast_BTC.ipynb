{
  "nbformat": 4,
  "nbformat_minor": 0,
  "metadata": {
    "colab": {
      "name": "forecast_BTC.ipynb",
      "provenance": [],
      "authorship_tag": "ABX9TyO0B7MUHYjOxrHMNbakRdyh",
      "include_colab_link": true
    },
    "kernelspec": {
      "name": "python3",
      "display_name": "Python 3"
    },
    "language_info": {
      "name": "python"
    }
  },
  "cells": [
    {
      "cell_type": "markdown",
      "metadata": {
        "id": "view-in-github",
        "colab_type": "text"
      },
      "source": [
        "<a href=\"https://colab.research.google.com/github/wisestonster/forecast_BTC/blob/main/forecast_BTC.ipynb\" target=\"_parent\"><img src=\"https://colab.research.google.com/assets/colab-badge.svg\" alt=\"Open In Colab\"/></a>"
      ]
    },
    {
      "cell_type": "code",
      "metadata": {
        "id": "s_dcgH0BRI3m"
      },
      "source": [
        "# 프로핏으로 가격 예측하기\n",
        "import pandas as pd\n",
        "import matplotlib.pyplot as plt\n",
        "import numpy as np\n",
        "from fbprophet import Prophet\n",
        "\n",
        "# prophet을 사용하기 위해서는 다음과 같이 피처의 이름을 변경해야 합니다 : 'ds', 'y'\n",
        "bitcoin_df = pd.read_csv('data/market-price_210604.csv', names=['ds', 'y'])\n",
        "prophet = Prophet(seasonality_mode='multiplicative',\n",
        "                  yearly_seasonality=True,\n",
        "                  weekly_seasonality=True, daily_seasonality=True,\n",
        "                  changepoint_prior_scale=0.5)\n",
        "prophet.fit(bitcoin_df)\n",
        "\n",
        "# periods 일을 내다보며 예측합니다.\n",
        "future_data = prophet.make_future_dataframe(periods=31, freq='d')\n",
        "forecast_data = prophet.predict(future_data)\n",
        "forecast_data[['ds', 'yhat', 'yhat_lower', 'yhat_upper']].tail(5)\n",
        "\n",
        "#예측값 찍어보기\n",
        "fig1 = prophet.plot(forecast_data)"
      ],
      "execution_count": null,
      "outputs": []
    }
  ]
}